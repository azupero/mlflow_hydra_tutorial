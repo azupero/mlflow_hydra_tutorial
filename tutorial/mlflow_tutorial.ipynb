{
 "cells": [
  {
   "cell_type": "code",
   "execution_count": 7,
   "metadata": {
    "tags": []
   },
   "outputs": [],
   "source": [
    "import xgboost as xgb\n",
    "from sklearn.preprocessing import PolynomialFeatures\n",
    "from sklearn.pipeline import make_pipeline\n",
    "from sklearn.datasets import load_wine\n",
    "from sklearn.model_selection import train_test_split\n",
    "from sklearn.metrics import accuracy_score, recall_score, precision_score, f1_score\n",
    "import numpy as np\n",
    "import mlflow\n",
    "import mlflow.sklearn\n",
    "import hydra\n",
    "import hydra.experimental\n",
    "import os\n",
    "\n",
    "# hydra._internal.hydra.GlobalHydra().clear()\n",
    "# @hydra.main(config_path='config.yaml')\n",
    "cwd = os.getcwd()\n",
    "# hydra.experimental.initialize(config_dir=cwd, strict=True)\n",
    "cfg = hydra.experimental.compose(config_file=\"config.yaml\")\n",
    "\n",
    "# ロギング先のディレクトリを指定(ディレクトリ名は\"mlruns\"にする必要がある)\n",
    "mlflow.set_tracking_uri('../mlruns')\n",
    "\n",
    "experiment_name = cfg.training.experiment_name\n",
    "\n",
    "mlflow.set_experiment(experiment_name)\n",
    "tracking = mlflow.tracking.MlflowClient()\n",
    "experiment = tracking.get_experiment_by_name(experiment_name)\n",
    "\n",
    "def training():\n",
    "    np.random.seed(0)\n",
    "    # データの用意\n",
    "    X,y = load_wine(return_X_y=True)\n",
    "    X_train, X_test, y_train, y_test = train_test_split(X,y)\n",
    "    run_name = cfg.training.run_name\n",
    "    with mlflow.start_run(run_name=run_name, experiment_id=experiment.experiment_id):\n",
    "        xgbClassifier = xgb.XGBClassifier(  max_depth=cfg.training.max_depth,\n",
    "                                            learning_rate=cfg.training.learning_rate,\n",
    "                                            n_estimators=cfg.training.n_estimators,\n",
    "                                            booster=cfg.training.booster,\n",
    "                                            subsample=cfg.training.subsample,\n",
    "                                            min_child_weight=cfg.training.min_child_weight)\n",
    "        pipeline = make_pipeline(PolynomialFeatures(),xgbClassifier)\n",
    "        pipeline.fit(X_train, y_train)\n",
    "        pred = pipeline.predict(X_test)\n",
    "        # 評価値の計算\n",
    "        accuracy = accuracy_score(y_test, pred)\n",
    "        recall = recall_score(y_test, pred, average=\"weighted\")\n",
    "        precision = precision_score(y_test, pred, average=\"weighted\")\n",
    "        f1 = f1_score(y_test, pred, average=\"weighted\")\n",
    "        # パラメータの保存\n",
    "        mlflow.log_param(\"method_name\",xgbClassifier.__class__.__name__)\n",
    "        mlflow.log_param(\"max_depth\", cfg.training.max_depth)\n",
    "        mlflow.log_param(\"learning_rate\", cfg.training.learning_rate)\n",
    "        mlflow.log_param(\"n_estimators\", cfg.training.n_estimators)\n",
    "        mlflow.log_param(\"booster\", cfg.training.booster)\n",
    "        mlflow.log_param(\"subsample\", cfg.training.subsample)\n",
    "        mlflow.log_param(\"min_child_weight\", cfg.training.min_child_weight)\n",
    "        # 評価値の保存\n",
    "        mlflow.log_metric(\"accuracy\", accuracy)\n",
    "        mlflow.log_metric(\"recall\", recall)\n",
    "        mlflow.log_metric(\"precision\", precision)\n",
    "        mlflow.log_metric(\"f1\", f1)\n",
    "        # モデルの保存\n",
    "        mlflow.sklearn.log_model(pipeline, \"model\")"
   ]
  },
  {
   "cell_type": "code",
   "execution_count": 8,
   "metadata": {},
   "outputs": [],
   "source": [
    "training()"
   ]
  },
  {
   "cell_type": "code",
   "execution_count": null,
   "metadata": {},
   "outputs": [],
   "source": []
  }
 ],
 "metadata": {
  "language_info": {
   "name": "python",
   "codemirror_mode": {
    "name": "ipython",
    "version": 3
   },
   "version": "3.8.3-final"
  },
  "orig_nbformat": 2,
  "file_extension": ".py",
  "mimetype": "text/x-python",
  "name": "python",
  "npconvert_exporter": "python",
  "pygments_lexer": "ipython3",
  "version": 3,
  "kernelspec": {
   "name": "python38364bitvenvvenv46fb0eb23a9e4d65ba3f9873b7c9d41d",
   "display_name": "Python 3.8.3 64-bit ('.venv': venv)"
  }
 },
 "nbformat": 4,
 "nbformat_minor": 2
}